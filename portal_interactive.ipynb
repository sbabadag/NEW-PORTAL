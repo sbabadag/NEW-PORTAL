{
 "cells": [
  {
   "cell_type": "markdown",
   "id": "775fb552",
   "metadata": {},
   "source": [
    "# Portal Çerçeve Analizi - İnteraktif Versiyon\n",
    "\n",
    "Bu araç portal çerçeve sistemlerinin analizi için Eurocode benzeri kar şekillendirme ve basit rüzgar basıncı ile N-V-M diyagramları oluşturur.\n",
    "\n",
    "## Özellikler\n",
    "- **Geometri**: Portal çerçeve geometrisi (açıklık, kolon yükseklikleri, mahya)\n",
    "- **Kesitler**: Kolon ve kiriş kesit özellikleri (A, I) - IPE/HEA etiketleri\n",
    "- **Yükler**: Ölü yük, kar yükü (EN 1991-1-3), rüzgar yükü\n",
    "- **Kombinasyonlar**: ULS/SLS kombinasyonları\n",
    "\n",
    "**Kullanım**: Aşağıdaki hücreyi çalıştırın ve interaktif arayüz ile parametreleri ayarlayın."
   ]
  },
  {
   "cell_type": "code",
   "execution_count": null,
   "id": "edbadd6d",
   "metadata": {},
   "outputs": [],
   "source": [
    "# Portal çerçeve analiz aracını yükle ve çalıştır\n",
    "exec(open('portal.py').read())"
   ]
  },
  {
   "cell_type": "markdown",
   "id": "4364b60f",
   "metadata": {},
   "source": [
    "## Kullanım Talimatları\n",
    "\n",
    "1. **Geometri**: Çerçeve boyutlarını girin\n",
    "2. **Kesitler**: Kolon ve kiriş kesit özelliklerini ayarlayın\n",
    "3. **Yükler**: Ölü yük, kar ve rüzgar yüklerini girin\n",
    "4. **Kombinasyonlar**: Analiz etmek istediğiniz yük kombinasyonlarını seçin\n",
    "5. **Hesapla ve Çiz** butonuna basın\n",
    "\n",
    "### Notlar\n",
    "- Kesit özellikleri cm² ve cm⁴ cinsinden girilir\n",
    "- Kar yükü EN 1991-1-3 standardına göre hesaplanır\n",
    "- Rüzgar yükü çatı normaline göre tanımlanır\n",
    "- Tüm sonuçlar SI birimlerinde (kN, kN⋅m) gösterilir"
   ]
  }
 ],
 "metadata": {
  "language_info": {
   "name": "python"
  }
 },
 "nbformat": 4,
 "nbformat_minor": 5
}
